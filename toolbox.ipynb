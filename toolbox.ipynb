{
 "cells": [
  {
   "cell_type": "code",
   "execution_count": 1,
   "metadata": {},
   "outputs": [
    {
     "data": {
      "application/vnd.jupyter.widget-view+json": {
       "model_id": "f03ab9148c79478795f81b6b784d24af",
       "version_major": 2,
       "version_minor": 0
      },
      "text/plain": [
       "FloatText(value=4.2, description='Current Price:', style=DescriptionStyle(description_width='initial'))"
      ]
     },
     "metadata": {},
     "output_type": "display_data"
    },
    {
     "data": {
      "application/vnd.jupyter.widget-view+json": {
       "model_id": "dcfe345f0d4c4aaf8a4b86db8bac1364",
       "version_major": 2,
       "version_minor": 0
      },
      "text/plain": [
       "FloatSlider(value=0.75, description='LTV:', max=1.0, readout_format='.4f', step=0.01)"
      ]
     },
     "metadata": {},
     "output_type": "display_data"
    },
    {
     "data": {
      "application/vnd.jupyter.widget-view+json": {
       "model_id": "ae4d46f8b89c45c2b56ca69cdfe47c86",
       "version_major": 2,
       "version_minor": 0
      },
      "text/plain": [
       "FloatSlider(value=0.8, description='Liquidation Factor:', max=1.0, readout_format='.4f', step=0.01, style=Slid…"
      ]
     },
     "metadata": {},
     "output_type": "display_data"
    },
    {
     "data": {
      "application/vnd.jupyter.widget-view+json": {
       "model_id": "91950350eb9b4ec0bafcc14053a659d1",
       "version_major": 2,
       "version_minor": 0
      },
      "text/plain": [
       "FloatText(value=3.6, description='Long Liq Price:', style=DescriptionStyle(description_width='initial'))"
      ]
     },
     "metadata": {},
     "output_type": "display_data"
    },
    {
     "data": {
      "application/vnd.jupyter.widget-view+json": {
       "model_id": "bf39f945403049a5b74cb1118ad2a5a9",
       "version_major": 2,
       "version_minor": 0
      },
      "text/plain": [
       "FloatText(value=5.2, description='Short Liq Price:', style=DescriptionStyle(description_width='initial'))"
      ]
     },
     "metadata": {},
     "output_type": "display_data"
    },
    {
     "data": {
      "application/vnd.jupyter.widget-view+json": {
       "model_id": "f9a64d34c7944cdcafbb20ac99499ebd",
       "version_major": 2,
       "version_minor": 0
      },
      "text/plain": [
       "FloatText(value=10000.0, description='Total Investment ($):', style=DescriptionStyle(description_width='initia…"
      ]
     },
     "metadata": {},
     "output_type": "display_data"
    },
    {
     "data": {
      "application/vnd.jupyter.widget-view+json": {
       "model_id": "fa1dbfc680b541f5a05014616d0c400d",
       "version_major": 2,
       "version_minor": 0
      },
      "text/plain": [
       "FloatSlider(value=0.003, description='Swap Fee %:', max=0.01, readout_format='.4f', step=0.0001, style=SliderS…"
      ]
     },
     "metadata": {},
     "output_type": "display_data"
    },
    {
     "data": {
      "application/vnd.jupyter.widget-view+json": {
       "model_id": "dc40dfc0beb64b5898879e047845ebdf",
       "version_major": 2,
       "version_minor": 0
      },
      "text/plain": [
       "FloatSlider(value=0.025, description='MMR:', max=0.05, min=0.001, readout_format='.4f', step=0.0001, style=Sli…"
      ]
     },
     "metadata": {},
     "output_type": "display_data"
    },
    {
     "data": {
      "application/vnd.jupyter.widget-view+json": {
       "model_id": "0fb0fbd7cd164a6abbf48c4da344056c",
       "version_major": 2,
       "version_minor": 0
      },
      "text/plain": [
       "Output()"
      ]
     },
     "metadata": {},
     "output_type": "display_data"
    }
   ],
   "source": [
    "# @title MM & Perp Calculator\n",
    "import ipywidgets as widgets\n",
    "from IPython.display import display\n",
    "\n",
    "def calculate_arbitrage_allocation(current_price, ltv, long_liq_price, short_liq_price, liquidation_factor, mmr=0.025):\n",
    "    # Calculate leverage for long position using liquidation factor\n",
    "    long_leverage = 1 / (1 - liquidation_factor * (long_liq_price / current_price))\n",
    "\n",
    "    # Calculate leverage for short position\n",
    "    # For shorts: using (1 - MMR) as the liquidation factor\n",
    "    # Similar to longs but using (1 - MMR) instead of liquidation_factor\n",
    "    short_leverage = 1 / (1 - (1 - mmr) * (current_price / short_liq_price))\n",
    "\n",
    "\n",
    "    # Calculate capital allocation\n",
    "    total_leverage = long_leverage + short_leverage\n",
    "    long_allocation = short_leverage / total_leverage\n",
    "    short_allocation = long_leverage / total_leverage\n",
    "\n",
    "    # Calculate capital efficiency\n",
    "    capital_efficiency = long_allocation * long_leverage\n",
    "\n",
    "    return {\n",
    "        'long_allocation': long_allocation,\n",
    "        'short_allocation': short_allocation,\n",
    "        'long_leverage': long_leverage,\n",
    "        'short_leverage': short_leverage,\n",
    "        'capital_efficiency': capital_efficiency\n",
    "    }\n",
    "\n",
    "# Create widgets\n",
    "current_price_widget = widgets.FloatText(\n",
    "    value=4.2,\n",
    "    description='Current Price:',\n",
    "    style={'description_width': 'initial'}\n",
    ")\n",
    "\n",
    "ltv_widget = widgets.FloatSlider(\n",
    "    value=0.75,\n",
    "    min=0,\n",
    "    max=1.0,\n",
    "    step=0.01,\n",
    "    description='LTV:',\n",
    "    readout_format='.4f'\n",
    ")\n",
    "\n",
    "liquidation_factor_widget = widgets.FloatSlider(\n",
    "    value=0.8,  # Default to the same as LTV\n",
    "    min=0,\n",
    "    max=1.0,\n",
    "    step=0.01,\n",
    "    description='Liquidation Factor:',\n",
    "    readout_format='.4f',\n",
    "    style={'description_width': 'initial'}\n",
    ")\n",
    "\n",
    "long_liq_price_widget = widgets.FloatText(\n",
    "    value=3.6,\n",
    "    description='Long Liq Price:',\n",
    "    style={'description_width': 'initial'}\n",
    ")\n",
    "\n",
    "short_liq_price_widget = widgets.FloatText(\n",
    "    value=5.2,\n",
    "    description='Short Liq Price:',\n",
    "    style={'description_width': 'initial'}\n",
    ")\n",
    "\n",
    "# Add widget for total investment\n",
    "total_investment_widget = widgets.FloatText(\n",
    "    value=10000,\n",
    "    description='Total Investment ($):',\n",
    "    style={'description_width': 'initial'}\n",
    ")\n",
    "\n",
    "# Add widget for swap fee\n",
    "swap_fee_widget = widgets.FloatSlider(\n",
    "    value=0.003,  # 0.3% default\n",
    "    min=0,\n",
    "    max=0.01,\n",
    "    step=0.0001,\n",
    "    description='Swap Fee %:',\n",
    "    readout_format='.4f',\n",
    "    style={'description_width': 'initial'}\n",
    ")\n",
    "\n",
    "# Add widget for MMR\n",
    "mmr_widget = widgets.FloatSlider(\n",
    "    value=0.025,  # Default 2.5%\n",
    "    min=0.001,\n",
    "    max=0.05,\n",
    "    step=0.0001,\n",
    "    description='MMR:',\n",
    "    readout_format='.4f',\n",
    "    style={'description_width': 'initial'}\n",
    ")\n",
    "\n",
    "output = widgets.Output()\n",
    "\n",
    "def on_value_change(change):\n",
    "    with output:\n",
    "        output.clear_output()\n",
    "        try:\n",
    "            result = calculate_arbitrage_allocation(\n",
    "                current_price_widget.value,\n",
    "                ltv_widget.value,\n",
    "                long_liq_price_widget.value,\n",
    "                short_liq_price_widget.value,\n",
    "                liquidation_factor_widget.value,\n",
    "                mmr_widget.value\n",
    "            )\n",
    "\n",
    "            # Calculate dollar amounts for each position\n",
    "            long_amount = total_investment_widget.value * result['long_allocation']\n",
    "            short_amount = total_investment_widget.value * result['short_allocation']\n",
    "\n",
    "            # Calculate token quantity and fees for long position\n",
    "            long_notional = long_amount * result['long_leverage']\n",
    "            long_token_quantity = long_notional / current_price_widget.value\n",
    "            long_swap_fee = long_notional * swap_fee_widget.value\n",
    "\n",
    "            # Calculate fees for short position (0.01% + $1)\n",
    "            short_notional = short_amount * result['short_leverage']\n",
    "            short_fee = (short_notional * 0.0001) + 1\n",
    "\n",
    "            print(\"\\nResults:\")\n",
    "            print(f\"Long position: Allocate {result['long_allocation']*100:.2f}% of capital (${long_amount:,.2f}) with {result['long_leverage']:.2f}x leverage\")\n",
    "            print(f\"Long Position Token Quantity: {long_token_quantity:.4f} tokens\")\n",
    "            print(f\"Long Position Swap Fee: ${long_swap_fee:.2f}\")\n",
    "            print(f\"\\nShort position: Allocate {result['short_allocation']*100:.2f}% of capital (${short_amount:,.2f}) with {result['short_leverage']:.2f}x leverage\")\n",
    "            print(f\"Short Position Fee: ${short_fee:.2f}\")\n",
    "            print(f\"\\nTotal Transaction Fees: ${(long_swap_fee + short_fee):.2f}\")\n",
    "            print(f\"Capital Efficiency: {result['capital_efficiency']:.2f}x\")\n",
    "\n",
    "            # Calculate and display notional exposure\n",
    "            print(f\"\\nNotional Exposure:\")\n",
    "            print(f\"Long Exposure: ${long_notional:,.2f}\")\n",
    "            print(f\"Short Exposure: ${short_notional:,.2f}\")\n",
    "\n",
    "        except Exception as e:\n",
    "            print(f\"Error: {str(e)}\")\n",
    "\n",
    "# Observe changes in ALL widgets\n",
    "current_price_widget.observe(on_value_change, names='value')\n",
    "ltv_widget.observe(on_value_change, names='value')\n",
    "liquidation_factor_widget.observe(on_value_change, names='value')\n",
    "long_liq_price_widget.observe(on_value_change, names='value')\n",
    "short_liq_price_widget.observe(on_value_change, names='value')\n",
    "total_investment_widget.observe(on_value_change, names='value')\n",
    "swap_fee_widget.observe(on_value_change, names='value')\n",
    "mmr_widget.observe(on_value_change, names='value')\n",
    "\n",
    "# Trigger initial calculation\n",
    "on_value_change({'new': None})\n",
    "\n",
    "# Display all widgets\n",
    "display(\n",
    "    current_price_widget,\n",
    "    ltv_widget,\n",
    "    liquidation_factor_widget,\n",
    "    long_liq_price_widget,\n",
    "    short_liq_price_widget,\n",
    "    total_investment_widget,\n",
    "    swap_fee_widget,\n",
    "    mmr_widget,\n",
    "    output\n",
    ")"
   ]
  },
  {
   "cell_type": "code",
   "execution_count": 3,
   "metadata": {},
   "outputs": [
    {
     "data": {
      "application/vnd.jupyter.widget-view+json": {
       "model_id": "edc9879ac5a44862841efd8bfcbec004",
       "version_major": 2,
       "version_minor": 0
      },
      "text/plain": [
       "VBox(children=(HTML(value='<h3>Step 1: Calculate Price Ratio</h3>'), HTML(value='<p>Enter sample amounts to ca…"
      ]
     },
     "metadata": {},
     "output_type": "display_data"
    }
   ],
   "source": [
    "import ipywidgets as widgets\n",
    "from IPython.display import display\n",
    "import decimal\n",
    "\n",
    "# Set decimal precision to 18 digits\n",
    "decimal.getcontext().prec = 18\n",
    "\n",
    "def calculate_ratio(token_a_amount, token_b_amount):\n",
    "    \"\"\"Calculate the ratio between two token amounts\"\"\"\n",
    "    token_a = decimal.Decimal(str(token_a_amount))\n",
    "    token_b = decimal.Decimal(str(token_b_amount))\n",
    "    return token_b / token_a if token_a != 0 else decimal.Decimal('0')\n",
    "\n",
    "def calculate_optimal_split(total_token_a, price_ratio):\n",
    "    \"\"\"Calculate optimal split of Token A for LP\"\"\"\n",
    "    total = decimal.Decimal(str(total_token_a))\n",
    "    ratio = decimal.Decimal(str(price_ratio))\n",
    "    \n",
    "    swap_token_a = total / (ratio + 1)\n",
    "    keep_token_a = total - swap_token_a\n",
    "    receive_token_b = swap_token_a * ratio\n",
    "    \n",
    "    return (keep_token_a, swap_token_a, receive_token_b)\n",
    "\n",
    "def on_ratio_button_click(b):\n",
    "    try:\n",
    "        token_a = decimal.Decimal(str(sample_a_input.value))\n",
    "        token_b = decimal.Decimal(str(sample_b_input.value))\n",
    "        ratio = calculate_ratio(token_a, token_b)\n",
    "        ratio_output.value = f\"\"\"Ratio Calculator Results:\n",
    "Sample Token A: {token_a:,.8f}\n",
    "Sample Token B: {token_b:,.8f}\n",
    "Price Ratio (B/A): 1:{ratio:,.8f}\"\"\"\n",
    "        \n",
    "        # Automatically update the price ratio input for the split calculator\n",
    "        price_ratio_input.value = float(ratio)\n",
    "        \n",
    "    except (ValueError, decimal.InvalidOperation, decimal.DivisionByZero) as e:\n",
    "        ratio_output.value = f\"Error: Please enter valid numbers! ({str(e)})\"\n",
    "\n",
    "def on_split_button_click(b):\n",
    "    try:\n",
    "        total_amount = decimal.Decimal(str(total_amount_input.value))\n",
    "        price_ratio = decimal.Decimal(str(price_ratio_input.value))\n",
    "        \n",
    "        keep_a, swap_a, receive_b = calculate_optimal_split(total_amount, price_ratio)\n",
    "        \n",
    "        split_output.value = f\"\"\"LP Split Calculator Results:\n",
    "\n",
    "Your Total Token A: {total_amount:,.8f}\n",
    "Current Price Ratio (B/A): 1:{price_ratio:,.8f}\n",
    "\n",
    "Recommended Actions:\n",
    "1. Keep Token A: {keep_a:,.8f}\n",
    "2. Swap Token A: {swap_a:,.8f}\n",
    "3. You'll Receive Token B: {receive_b:,.8f}\n",
    "\n",
    "Final LP Position:\n",
    "- Token A: {keep_a:,.8f}\n",
    "- Token B: {receive_b:,.8f}\"\"\"\n",
    "        \n",
    "    except (ValueError, decimal.InvalidOperation, decimal.DivisionByZero) as e:\n",
    "        split_output.value = f\"Error: Please enter valid numbers! ({str(e)})\"\n",
    "\n",
    "# Create widgets for ratio calculator\n",
    "sample_a_input = widgets.FloatText(\n",
    "    value=1.0,\n",
    "    description='Sample Token A:',\n",
    "    style={'description_width': 'initial'}\n",
    ")\n",
    "\n",
    "sample_b_input = widgets.FloatText(\n",
    "    value=1.0,\n",
    "    description='Sample Token B:',\n",
    "    style={'description_width': 'initial'}\n",
    ")\n",
    "\n",
    "ratio_button = widgets.Button(\n",
    "    description='Calculate Ratio',\n",
    "    button_style='info'\n",
    ")\n",
    "\n",
    "ratio_output = widgets.Textarea(\n",
    "    value='Ratio results will appear here...',\n",
    "    layout=widgets.Layout(width='50%', height='100px')\n",
    ")\n",
    "\n",
    "# Create widgets for split calculator\n",
    "total_amount_input = widgets.FloatText(\n",
    "    value=100.0,\n",
    "    description='Total Token A Available:',\n",
    "    style={'description_width': 'initial'}\n",
    ")\n",
    "\n",
    "price_ratio_input = widgets.FloatText(\n",
    "    value=1.0,\n",
    "    description='Price Ratio (B/A):',\n",
    "    style={'description_width': 'initial'}\n",
    ")\n",
    "\n",
    "split_button = widgets.Button(\n",
    "    description='Calculate Split',\n",
    "    button_style='primary'\n",
    ")\n",
    "\n",
    "split_output = widgets.Textarea(\n",
    "    value='Split results will appear here...',\n",
    "    layout=widgets.Layout(width='50%', height='200px')\n",
    ")\n",
    "\n",
    "# Connect button clicks to handlers\n",
    "ratio_button.on_click(on_ratio_button_click)\n",
    "split_button.on_click(on_split_button_click)\n",
    "\n",
    "# Display widgets\n",
    "display(widgets.VBox([\n",
    "    widgets.HTML(value=\"<h3>Step 1: Calculate Price Ratio</h3>\"),\n",
    "    widgets.HTML(value=\"<p>Enter sample amounts to calculate the ratio:</p>\"),\n",
    "    sample_a_input,\n",
    "    sample_b_input,\n",
    "    ratio_button,\n",
    "    ratio_output,\n",
    "    widgets.HTML(value=\"<h3>Step 2: Calculate Optimal Split</h3>\"),\n",
    "    widgets.HTML(value=\"<p>Enter your total Token A amount to split:</p>\"),\n",
    "    total_amount_input,\n",
    "    price_ratio_input,\n",
    "    split_button,\n",
    "    split_output\n",
    "]))"
   ]
  }
 ],
 "metadata": {
  "kernelspec": {
   "display_name": "base",
   "language": "python",
   "name": "python3"
  },
  "language_info": {
   "codemirror_mode": {
    "name": "ipython",
    "version": 3
   },
   "file_extension": ".py",
   "mimetype": "text/x-python",
   "name": "python",
   "nbconvert_exporter": "python",
   "pygments_lexer": "ipython3",
   "version": "3.12.4"
  }
 },
 "nbformat": 4,
 "nbformat_minor": 2
}
